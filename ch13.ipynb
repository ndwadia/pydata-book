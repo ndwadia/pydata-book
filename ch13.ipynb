{
 "cells": [
  {
   "cell_type": "markdown",
   "metadata": {},
   "source": [
    "# Introduction to Modeling Libraries "
   ]
  },
  {
   "cell_type": "code",
   "execution_count": 1,
   "metadata": {
    "collapsed": true
   },
   "outputs": [],
   "source": [
    "import numpy as np\n",
    "import pandas as pd\n",
    "np.random.seed(12345)\n",
    "import matplotlib.pyplot as plt\n",
    "plt.rc('figure', figsize=(10, 6))\n",
    "PREVIOUS_MAX_ROWS = pd.options.display.max_rows\n",
    "pd.options.display.max_rows = 20\n",
    "np.set_printoptions(precision=4, suppress=True)"
   ]
  },
  {
   "cell_type": "markdown",
   "metadata": {},
   "source": [
    "## Interfacing Between pandas and Model Code"
   ]
  },
  {
   "cell_type": "code",
   "execution_count": 2,
   "metadata": {},
   "outputs": [
    {
     "name": "stdout",
     "output_type": "stream",
     "text": [
      "   x0    x1    y\n",
      "0   1  0.01 -1.5\n",
      "1   2 -0.01  0.0\n",
      "2   3  0.25  3.6\n",
      "3   4 -4.10  1.3\n",
      "4   5  0.00 -2.0\n",
      "Index(['x0', 'x1', 'y'], dtype='object')\n"
     ]
    },
    {
     "data": {
      "text/plain": [
       "array([[ 1.  ,  0.01, -1.5 ],\n",
       "       [ 2.  , -0.01,  0.  ],\n",
       "       [ 3.  ,  0.25,  3.6 ],\n",
       "       [ 4.  , -4.1 ,  1.3 ],\n",
       "       [ 5.  ,  0.  , -2.  ]])"
      ]
     },
     "execution_count": 2,
     "metadata": {},
     "output_type": "execute_result"
    }
   ],
   "source": [
    "import pandas as pd\n",
    "import numpy as np\n",
    "data = pd.DataFrame({\n",
    "    'x0': [1, 2, 3, 4, 5],\n",
    "    'x1': [0.01, -0.01, 0.25, -4.1, 0.],\n",
    "    'y': [-1.5, 0., 3.6, 1.3, -2.]})\n",
    "print(data)\n",
    "print(data.columns)\n",
    "data.values"
   ]
  },
  {
   "cell_type": "code",
   "execution_count": 3,
   "metadata": {},
   "outputs": [
    {
     "data": {
      "text/html": [
       "<div>\n",
       "<style>\n",
       "    .dataframe thead tr:only-child th {\n",
       "        text-align: right;\n",
       "    }\n",
       "\n",
       "    .dataframe thead th {\n",
       "        text-align: left;\n",
       "    }\n",
       "\n",
       "    .dataframe tbody tr th {\n",
       "        vertical-align: top;\n",
       "    }\n",
       "</style>\n",
       "<table border=\"1\" class=\"dataframe\">\n",
       "  <thead>\n",
       "    <tr style=\"text-align: right;\">\n",
       "      <th></th>\n",
       "      <th>one</th>\n",
       "      <th>two</th>\n",
       "      <th>three</th>\n",
       "    </tr>\n",
       "  </thead>\n",
       "  <tbody>\n",
       "    <tr>\n",
       "      <th>0</th>\n",
       "      <td>1.0</td>\n",
       "      <td>0.01</td>\n",
       "      <td>-1.5</td>\n",
       "    </tr>\n",
       "    <tr>\n",
       "      <th>1</th>\n",
       "      <td>2.0</td>\n",
       "      <td>-0.01</td>\n",
       "      <td>0.0</td>\n",
       "    </tr>\n",
       "    <tr>\n",
       "      <th>2</th>\n",
       "      <td>3.0</td>\n",
       "      <td>0.25</td>\n",
       "      <td>3.6</td>\n",
       "    </tr>\n",
       "    <tr>\n",
       "      <th>3</th>\n",
       "      <td>4.0</td>\n",
       "      <td>-4.10</td>\n",
       "      <td>1.3</td>\n",
       "    </tr>\n",
       "    <tr>\n",
       "      <th>4</th>\n",
       "      <td>5.0</td>\n",
       "      <td>0.00</td>\n",
       "      <td>-2.0</td>\n",
       "    </tr>\n",
       "  </tbody>\n",
       "</table>\n",
       "</div>"
      ],
      "text/plain": [
       "   one   two  three\n",
       "0  1.0  0.01   -1.5\n",
       "1  2.0 -0.01    0.0\n",
       "2  3.0  0.25    3.6\n",
       "3  4.0 -4.10    1.3\n",
       "4  5.0  0.00   -2.0"
      ]
     },
     "execution_count": 3,
     "metadata": {},
     "output_type": "execute_result"
    }
   ],
   "source": [
    "df2 = pd.DataFrame(data.values, columns=['one', 'two', 'three'])\n",
    "df2"
   ]
  },
  {
   "cell_type": "code",
   "execution_count": 4,
   "metadata": {},
   "outputs": [
    {
     "data": {
      "text/plain": [
       "array([[ 1.  ,  0.01],\n",
       "       [ 2.  , -0.01],\n",
       "       [ 3.  ,  0.25],\n",
       "       [ 4.  , -4.1 ],\n",
       "       [ 5.  ,  0.  ]])"
      ]
     },
     "execution_count": 4,
     "metadata": {},
     "output_type": "execute_result"
    }
   ],
   "source": [
    "model_cols = ['x0', 'x1']\n",
    "data.loc[:, model_cols].values"
   ]
  },
  {
   "cell_type": "code",
   "execution_count": 5,
   "metadata": {},
   "outputs": [
    {
     "data": {
      "text/html": [
       "<div>\n",
       "<style>\n",
       "    .dataframe thead tr:only-child th {\n",
       "        text-align: right;\n",
       "    }\n",
       "\n",
       "    .dataframe thead th {\n",
       "        text-align: left;\n",
       "    }\n",
       "\n",
       "    .dataframe tbody tr th {\n",
       "        vertical-align: top;\n",
       "    }\n",
       "</style>\n",
       "<table border=\"1\" class=\"dataframe\">\n",
       "  <thead>\n",
       "    <tr style=\"text-align: right;\">\n",
       "      <th></th>\n",
       "      <th>x0</th>\n",
       "      <th>x1</th>\n",
       "      <th>y</th>\n",
       "      <th>category</th>\n",
       "    </tr>\n",
       "  </thead>\n",
       "  <tbody>\n",
       "    <tr>\n",
       "      <th>0</th>\n",
       "      <td>1</td>\n",
       "      <td>0.01</td>\n",
       "      <td>-1.5</td>\n",
       "      <td>a</td>\n",
       "    </tr>\n",
       "    <tr>\n",
       "      <th>1</th>\n",
       "      <td>2</td>\n",
       "      <td>-0.01</td>\n",
       "      <td>0.0</td>\n",
       "      <td>b</td>\n",
       "    </tr>\n",
       "    <tr>\n",
       "      <th>2</th>\n",
       "      <td>3</td>\n",
       "      <td>0.25</td>\n",
       "      <td>3.6</td>\n",
       "      <td>a</td>\n",
       "    </tr>\n",
       "    <tr>\n",
       "      <th>3</th>\n",
       "      <td>4</td>\n",
       "      <td>-4.10</td>\n",
       "      <td>1.3</td>\n",
       "      <td>a</td>\n",
       "    </tr>\n",
       "    <tr>\n",
       "      <th>4</th>\n",
       "      <td>5</td>\n",
       "      <td>0.00</td>\n",
       "      <td>-2.0</td>\n",
       "      <td>b</td>\n",
       "    </tr>\n",
       "  </tbody>\n",
       "</table>\n",
       "</div>"
      ],
      "text/plain": [
       "   x0    x1    y category\n",
       "0   1  0.01 -1.5        a\n",
       "1   2 -0.01  0.0        b\n",
       "2   3  0.25  3.6        a\n",
       "3   4 -4.10  1.3        a\n",
       "4   5  0.00 -2.0        b"
      ]
     },
     "execution_count": 5,
     "metadata": {},
     "output_type": "execute_result"
    }
   ],
   "source": [
    "data['category'] = pd.Categorical(['a', 'b', 'a', 'a', 'b'],\n",
    "                                  categories=['a', 'b'])\n",
    "data"
   ]
  },
  {
   "cell_type": "code",
   "execution_count": 6,
   "metadata": {},
   "outputs": [
    {
     "name": "stdout",
     "output_type": "stream",
     "text": [
      "   category_a  category_b\n",
      "0           1           0\n",
      "1           0           1\n",
      "2           1           0\n",
      "3           1           0\n",
      "4           0           1\n"
     ]
    },
    {
     "data": {
      "text/html": [
       "<div>\n",
       "<style>\n",
       "    .dataframe thead tr:only-child th {\n",
       "        text-align: right;\n",
       "    }\n",
       "\n",
       "    .dataframe thead th {\n",
       "        text-align: left;\n",
       "    }\n",
       "\n",
       "    .dataframe tbody tr th {\n",
       "        vertical-align: top;\n",
       "    }\n",
       "</style>\n",
       "<table border=\"1\" class=\"dataframe\">\n",
       "  <thead>\n",
       "    <tr style=\"text-align: right;\">\n",
       "      <th></th>\n",
       "      <th>x0</th>\n",
       "      <th>x1</th>\n",
       "      <th>y</th>\n",
       "      <th>category_a</th>\n",
       "      <th>category_b</th>\n",
       "    </tr>\n",
       "  </thead>\n",
       "  <tbody>\n",
       "    <tr>\n",
       "      <th>0</th>\n",
       "      <td>1</td>\n",
       "      <td>0.01</td>\n",
       "      <td>-1.5</td>\n",
       "      <td>1</td>\n",
       "      <td>0</td>\n",
       "    </tr>\n",
       "    <tr>\n",
       "      <th>1</th>\n",
       "      <td>2</td>\n",
       "      <td>-0.01</td>\n",
       "      <td>0.0</td>\n",
       "      <td>0</td>\n",
       "      <td>1</td>\n",
       "    </tr>\n",
       "    <tr>\n",
       "      <th>2</th>\n",
       "      <td>3</td>\n",
       "      <td>0.25</td>\n",
       "      <td>3.6</td>\n",
       "      <td>1</td>\n",
       "      <td>0</td>\n",
       "    </tr>\n",
       "    <tr>\n",
       "      <th>3</th>\n",
       "      <td>4</td>\n",
       "      <td>-4.10</td>\n",
       "      <td>1.3</td>\n",
       "      <td>1</td>\n",
       "      <td>0</td>\n",
       "    </tr>\n",
       "    <tr>\n",
       "      <th>4</th>\n",
       "      <td>5</td>\n",
       "      <td>0.00</td>\n",
       "      <td>-2.0</td>\n",
       "      <td>0</td>\n",
       "      <td>1</td>\n",
       "    </tr>\n",
       "  </tbody>\n",
       "</table>\n",
       "</div>"
      ],
      "text/plain": [
       "   x0    x1    y  category_a  category_b\n",
       "0   1  0.01 -1.5           1           0\n",
       "1   2 -0.01  0.0           0           1\n",
       "2   3  0.25  3.6           1           0\n",
       "3   4 -4.10  1.3           1           0\n",
       "4   5  0.00 -2.0           0           1"
      ]
     },
     "execution_count": 6,
     "metadata": {},
     "output_type": "execute_result"
    }
   ],
   "source": [
    "dummies = pd.get_dummies(data.category, prefix='category')\n",
    "print(dummies)\n",
    "data_with_dummies = data.drop('category', axis=1).join(dummies)\n",
    "data_with_dummies"
   ]
  },
  {
   "cell_type": "markdown",
   "metadata": {},
   "source": [
    "## Creating Model Descriptions with Patsy"
   ]
  },
  {
   "cell_type": "markdown",
   "metadata": {},
   "source": [
    "y ~ x0 + x1"
   ]
  },
  {
   "cell_type": "code",
   "execution_count": 7,
   "metadata": {},
   "outputs": [
    {
     "name": "stdout",
     "output_type": "stream",
     "text": [
      "   x0    x1    y\n",
      "0   1  0.01 -1.5\n",
      "1   2 -0.01  0.0\n",
      "2   3  0.25  3.6\n",
      "3   4 -4.10  1.3\n",
      "4   5  0.00 -2.0\n"
     ]
    }
   ],
   "source": [
    "data = pd.DataFrame({\n",
    "    'x0': [1, 2, 3, 4, 5],\n",
    "    'x1': [0.01, -0.01, 0.25, -4.1, 0.],\n",
    "    'y': [-1.5, 0., 3.6, 1.3, -2.]})\n",
    "print(data)\n",
    "import patsy\n",
    "y, X = patsy.dmatrices('y ~ x0 + x1', data)"
   ]
  },
  {
   "cell_type": "code",
   "execution_count": 8,
   "metadata": {},
   "outputs": [
    {
     "name": "stdout",
     "output_type": "stream",
     "text": [
      "[[-1.5]\n",
      " [ 0. ]\n",
      " [ 3.6]\n",
      " [ 1.3]\n",
      " [-2. ]]\n"
     ]
    },
    {
     "data": {
      "text/plain": [
       "DesignMatrix with shape (5, 3)\n",
       "  Intercept  x0     x1\n",
       "          1   1   0.01\n",
       "          1   2  -0.01\n",
       "          1   3   0.25\n",
       "          1   4  -4.10\n",
       "          1   5   0.00\n",
       "  Terms:\n",
       "    'Intercept' (column 0)\n",
       "    'x0' (column 1)\n",
       "    'x1' (column 2)"
      ]
     },
     "execution_count": 8,
     "metadata": {},
     "output_type": "execute_result"
    }
   ],
   "source": [
    "print(y)\n",
    "X"
   ]
  },
  {
   "cell_type": "code",
   "execution_count": 9,
   "metadata": {},
   "outputs": [
    {
     "name": "stdout",
     "output_type": "stream",
     "text": [
      "[[-1.5]\n",
      " [ 0. ]\n",
      " [ 3.6]\n",
      " [ 1.3]\n",
      " [-2. ]]\n"
     ]
    },
    {
     "data": {
      "text/plain": [
       "array([[ 1.  ,  1.  ,  0.01],\n",
       "       [ 1.  ,  2.  , -0.01],\n",
       "       [ 1.  ,  3.  ,  0.25],\n",
       "       [ 1.  ,  4.  , -4.1 ],\n",
       "       [ 1.  ,  5.  ,  0.  ]])"
      ]
     },
     "execution_count": 9,
     "metadata": {},
     "output_type": "execute_result"
    }
   ],
   "source": [
    "print(np.asarray(y))\n",
    "np.asarray(X)"
   ]
  },
  {
   "cell_type": "code",
   "execution_count": 10,
   "metadata": {},
   "outputs": [
    {
     "data": {
      "text/plain": [
       "DesignMatrix with shape (5, 2)\n",
       "  x0     x1\n",
       "   1   0.01\n",
       "   2  -0.01\n",
       "   3   0.25\n",
       "   4  -4.10\n",
       "   5   0.00\n",
       "  Terms:\n",
       "    'x0' (column 0)\n",
       "    'x1' (column 1)"
      ]
     },
     "execution_count": 10,
     "metadata": {},
     "output_type": "execute_result"
    }
   ],
   "source": [
    "patsy.dmatrices('y ~ x0 + x1 + 0', data)[1]"
   ]
  },
  {
   "cell_type": "code",
   "execution_count": 11,
   "metadata": {
    "collapsed": true
   },
   "outputs": [],
   "source": [
    "coef, resid, _, _ = np.linalg.lstsq(X, y)"
   ]
  },
  {
   "cell_type": "code",
   "execution_count": 12,
   "metadata": {},
   "outputs": [
    {
     "name": "stdout",
     "output_type": "stream",
     "text": [
      "[[ 0.3129]\n",
      " [-0.0791]\n",
      " [-0.2655]]\n"
     ]
    },
    {
     "data": {
      "text/plain": [
       "Intercept    0.312910\n",
       "x0          -0.079106\n",
       "x1          -0.265464\n",
       "dtype: float64"
      ]
     },
     "execution_count": 12,
     "metadata": {},
     "output_type": "execute_result"
    }
   ],
   "source": [
    "print(coef)\n",
    "coef = pd.Series(coef.squeeze(), index=X.design_info.column_names)\n",
    "coef"
   ]
  },
  {
   "cell_type": "markdown",
   "metadata": {},
   "source": [
    "### Data Transformations in Patsy Formulas"
   ]
  },
  {
   "cell_type": "code",
   "execution_count": 13,
   "metadata": {},
   "outputs": [
    {
     "data": {
      "text/plain": [
       "DesignMatrix with shape (5, 3)\n",
       "  Intercept  x0  np.log(np.abs(x1) + 1)\n",
       "          1   1                 0.00995\n",
       "          1   2                 0.00995\n",
       "          1   3                 0.22314\n",
       "          1   4                 1.62924\n",
       "          1   5                 0.00000\n",
       "  Terms:\n",
       "    'Intercept' (column 0)\n",
       "    'x0' (column 1)\n",
       "    'np.log(np.abs(x1) + 1)' (column 2)"
      ]
     },
     "execution_count": 13,
     "metadata": {},
     "output_type": "execute_result"
    }
   ],
   "source": [
    "y, X = patsy.dmatrices('y ~ x0 + np.log(np.abs(x1) + 1)', data)\n",
    "X"
   ]
  },
  {
   "cell_type": "code",
   "execution_count": 14,
   "metadata": {},
   "outputs": [
    {
     "data": {
      "text/plain": [
       "DesignMatrix with shape (5, 3)\n",
       "  Intercept  standardize(x0)  center(x1)\n",
       "          1         -1.41421        0.78\n",
       "          1         -0.70711        0.76\n",
       "          1          0.00000        1.02\n",
       "          1          0.70711       -3.33\n",
       "          1          1.41421        0.77\n",
       "  Terms:\n",
       "    'Intercept' (column 0)\n",
       "    'standardize(x0)' (column 1)\n",
       "    'center(x1)' (column 2)"
      ]
     },
     "execution_count": 14,
     "metadata": {},
     "output_type": "execute_result"
    }
   ],
   "source": [
    "y, X = patsy.dmatrices('y ~ standardize(x0) + center(x1)', data)\n",
    "X"
   ]
  },
  {
   "cell_type": "code",
   "execution_count": 15,
   "metadata": {},
   "outputs": [
    {
     "data": {
      "text/plain": [
       "[DesignMatrix with shape (4, 3)\n",
       "   Intercept  standardize(x0)  center(x1)\n",
       "           1          2.12132        3.87\n",
       "           1          2.82843        0.27\n",
       "           1          3.53553        0.77\n",
       "           1          4.24264        3.07\n",
       "   Terms:\n",
       "     'Intercept' (column 0)\n",
       "     'standardize(x0)' (column 1)\n",
       "     'center(x1)' (column 2)]"
      ]
     },
     "execution_count": 15,
     "metadata": {},
     "output_type": "execute_result"
    }
   ],
   "source": [
    "new_data = pd.DataFrame({\n",
    "    'x0': [6, 7, 8, 9],\n",
    "    'x1': [3.1, -0.5, 0, 2.3],\n",
    "    'y': [1, 2, 3, 4]})\n",
    "new_X = patsy.build_design_matrices([X.design_info], new_data)\n",
    "new_X"
   ]
  },
  {
   "cell_type": "code",
   "execution_count": 16,
   "metadata": {},
   "outputs": [
    {
     "data": {
      "text/plain": [
       "DesignMatrix with shape (5, 2)\n",
       "  Intercept  I(x0 + x1)\n",
       "          1        1.01\n",
       "          1        1.99\n",
       "          1        3.25\n",
       "          1       -0.10\n",
       "          1        5.00\n",
       "  Terms:\n",
       "    'Intercept' (column 0)\n",
       "    'I(x0 + x1)' (column 1)"
      ]
     },
     "execution_count": 16,
     "metadata": {},
     "output_type": "execute_result"
    }
   ],
   "source": [
    "y, X = patsy.dmatrices('y ~ I(x0 + x1)', data)\n",
    "X"
   ]
  },
  {
   "cell_type": "markdown",
   "metadata": {},
   "source": [
    "### Categorical Data and Patsy"
   ]
  },
  {
   "cell_type": "code",
   "execution_count": 17,
   "metadata": {},
   "outputs": [
    {
     "name": "stdout",
     "output_type": "stream",
     "text": [
      "  key1  key2  v1   v2\n",
      "0    a     0   1 -1.0\n",
      "1    a     1   2  0.0\n",
      "2    b     0   3  2.5\n",
      "3    b     1   4 -0.5\n",
      "4    a     0   5  4.0\n",
      "5    b     1   6 -1.2\n",
      "6    a     0   7  0.2\n",
      "7    b     0   8 -1.7\n"
     ]
    },
    {
     "data": {
      "text/plain": [
       "DesignMatrix with shape (8, 2)\n",
       "  Intercept  key1[T.b]\n",
       "          1          0\n",
       "          1          0\n",
       "          1          1\n",
       "          1          1\n",
       "          1          0\n",
       "          1          1\n",
       "          1          0\n",
       "          1          1\n",
       "  Terms:\n",
       "    'Intercept' (column 0)\n",
       "    'key1' (column 1)"
      ]
     },
     "execution_count": 17,
     "metadata": {},
     "output_type": "execute_result"
    }
   ],
   "source": [
    "data = pd.DataFrame({\n",
    "    'key1': ['a', 'a', 'b', 'b', 'a', 'b', 'a', 'b'],\n",
    "    'key2': [0, 1, 0, 1, 0, 1, 0, 0],\n",
    "    'v1': [1, 2, 3, 4, 5, 6, 7, 8],\n",
    "    'v2': [-1, 0, 2.5, -0.5, 4.0, -1.2, 0.2, -1.7]\n",
    "})\n",
    "print(data)\n",
    "y, X = patsy.dmatrices('v2 ~ key1', data)\n",
    "X"
   ]
  },
  {
   "cell_type": "code",
   "execution_count": 18,
   "metadata": {},
   "outputs": [
    {
     "data": {
      "text/plain": [
       "DesignMatrix with shape (8, 2)\n",
       "  key1[a]  key1[b]\n",
       "        1        0\n",
       "        1        0\n",
       "        0        1\n",
       "        0        1\n",
       "        1        0\n",
       "        0        1\n",
       "        1        0\n",
       "        0        1\n",
       "  Terms:\n",
       "    'key1' (columns 0:2)"
      ]
     },
     "execution_count": 18,
     "metadata": {},
     "output_type": "execute_result"
    }
   ],
   "source": [
    "y, X = patsy.dmatrices('v2 ~ key1 + 0', data)\n",
    "X"
   ]
  },
  {
   "cell_type": "code",
   "execution_count": 19,
   "metadata": {},
   "outputs": [
    {
     "data": {
      "text/plain": [
       "DesignMatrix with shape (8, 2)\n",
       "  Intercept  C(key2)[T.1]\n",
       "          1             0\n",
       "          1             1\n",
       "          1             0\n",
       "          1             1\n",
       "          1             0\n",
       "          1             1\n",
       "          1             0\n",
       "          1             0\n",
       "  Terms:\n",
       "    'Intercept' (column 0)\n",
       "    'C(key2)' (column 1)"
      ]
     },
     "execution_count": 19,
     "metadata": {},
     "output_type": "execute_result"
    }
   ],
   "source": [
    "y, X = patsy.dmatrices('v2 ~ C(key2)', data)\n",
    "X"
   ]
  },
  {
   "cell_type": "code",
   "execution_count": 20,
   "metadata": {},
   "outputs": [
    {
     "name": "stdout",
     "output_type": "stream",
     "text": [
      "  key1  key2  v1   v2\n",
      "0    a  zero   1 -1.0\n",
      "1    a   one   2  0.0\n",
      "2    b  zero   3  2.5\n",
      "3    b   one   4 -0.5\n",
      "4    a  zero   5  4.0\n",
      "5    b   one   6 -1.2\n",
      "6    a  zero   7  0.2\n",
      "7    b  zero   8 -1.7\n",
      "[[ 1.  0.  1.]\n",
      " [ 1.  0.  0.]\n",
      " [ 1.  1.  1.]\n",
      " [ 1.  1.  0.]\n",
      " [ 1.  0.  1.]\n",
      " [ 1.  1.  0.]\n",
      " [ 1.  0.  1.]\n",
      " [ 1.  1.  1.]]\n"
     ]
    },
    {
     "data": {
      "text/plain": [
       "DesignMatrix with shape (8, 4)\n",
       "  Intercept  key1[T.b]  key2[T.zero]  key1[T.b]:key2[T.zero]\n",
       "          1          0             1                       0\n",
       "          1          0             0                       0\n",
       "          1          1             1                       1\n",
       "          1          1             0                       0\n",
       "          1          0             1                       0\n",
       "          1          1             0                       0\n",
       "          1          0             1                       0\n",
       "          1          1             1                       1\n",
       "  Terms:\n",
       "    'Intercept' (column 0)\n",
       "    'key1' (column 1)\n",
       "    'key2' (column 2)\n",
       "    'key1:key2' (column 3)"
      ]
     },
     "execution_count": 20,
     "metadata": {},
     "output_type": "execute_result"
    }
   ],
   "source": [
    "data['key2'] = data['key2'].map({0: 'zero', 1: 'one'})\n",
    "print(data)\n",
    "y, X = patsy.dmatrices('v2 ~ key1 + key2', data)\n",
    "print(X)\n",
    "y, X = patsy.dmatrices('v2 ~ key1 + key2 + key1:key2', data)\n",
    "X"
   ]
  },
  {
   "cell_type": "markdown",
   "metadata": {},
   "source": [
    "## Introduction to statsmodels"
   ]
  },
  {
   "cell_type": "markdown",
   "metadata": {},
   "source": [
    "### Estimating Linear Models"
   ]
  },
  {
   "cell_type": "code",
   "execution_count": 21,
   "metadata": {},
   "outputs": [
    {
     "name": "stderr",
     "output_type": "stream",
     "text": [
      "C:\\Users\\ndwad\\Anaconda3\\lib\\site-packages\\statsmodels\\compat\\pandas.py:56: FutureWarning: The pandas.core.datetools module is deprecated and will be removed in a future version. Please use the pandas.tseries module instead.\n",
      "  from pandas.core import datetools\n"
     ]
    }
   ],
   "source": [
    "import statsmodels.api as sm\n",
    "import statsmodels.formula.api as smf"
   ]
  },
  {
   "cell_type": "code",
   "execution_count": 22,
   "metadata": {
    "collapsed": true
   },
   "outputs": [],
   "source": [
    "def dnorm(mean, variance, size=1):\n",
    "    if isinstance(size, int):\n",
    "        size = size,\n",
    "    return mean + np.sqrt(variance) * np.random.randn(*size)\n",
    "\n",
    "# For reproducibility\n",
    "np.random.seed(12345)\n",
    "\n",
    "N = 100\n",
    "X = np.c_[dnorm(0, 0.4, size=N),\n",
    "          dnorm(0, 0.6, size=N),\n",
    "          dnorm(0, 0.2, size=N)]\n",
    "eps = dnorm(0, 0.1, size=N)\n",
    "beta = [0.1, 0.3, 0.5]\n",
    "\n",
    "y = np.dot(X, beta) + eps"
   ]
  },
  {
   "cell_type": "code",
   "execution_count": 24,
   "metadata": {},
   "outputs": [
    {
     "name": "stdout",
     "output_type": "stream",
     "text": [
      "[[-0.1295 -1.2128  0.5042]\n",
      " [ 0.3029 -0.4357 -0.2542]\n",
      " [-0.3285 -0.0253  0.1384]\n",
      " [-0.3515 -0.7196 -0.2582]\n",
      " [ 1.2433 -0.3738 -0.5226]]\n"
     ]
    },
    {
     "data": {
      "text/plain": [
       "array([ 0.4279, -0.6735, -0.0909, -0.4895, -0.1289])"
      ]
     },
     "execution_count": 24,
     "metadata": {},
     "output_type": "execute_result"
    }
   ],
   "source": [
    "print(X[:5])\n",
    "y[:5]"
   ]
  },
  {
   "cell_type": "code",
   "execution_count": 25,
   "metadata": {},
   "outputs": [
    {
     "data": {
      "text/plain": [
       "array([[ 1.    , -0.1295, -1.2128,  0.5042],\n",
       "       [ 1.    ,  0.3029, -0.4357, -0.2542],\n",
       "       [ 1.    , -0.3285, -0.0253,  0.1384],\n",
       "       [ 1.    , -0.3515, -0.7196, -0.2582],\n",
       "       [ 1.    ,  1.2433, -0.3738, -0.5226]])"
      ]
     },
     "execution_count": 25,
     "metadata": {},
     "output_type": "execute_result"
    }
   ],
   "source": [
    "X_model = sm.add_constant(X)\n",
    "X_model[:5]"
   ]
  },
  {
   "cell_type": "code",
   "execution_count": 38,
   "metadata": {
    "collapsed": true
   },
   "outputs": [],
   "source": [
    "model = sm.OLS(y, X)"
   ]
  },
  {
   "cell_type": "code",
   "execution_count": 39,
   "metadata": {},
   "outputs": [
    {
     "data": {
      "text/plain": [
       "array([ 0.1783,  0.223 ,  0.501 ])"
      ]
     },
     "execution_count": 39,
     "metadata": {},
     "output_type": "execute_result"
    }
   ],
   "source": [
    "results = model.fit()\n",
    "results.params"
   ]
  },
  {
   "cell_type": "code",
   "execution_count": 40,
   "metadata": {},
   "outputs": [
    {
     "name": "stdout",
     "output_type": "stream",
     "text": [
      "                            OLS Regression Results                            \n",
      "==============================================================================\n",
      "Dep. Variable:                      y   R-squared:                       0.430\n",
      "Model:                            OLS   Adj. R-squared:                  0.413\n",
      "Method:                 Least Squares   F-statistic:                     24.42\n",
      "Date:                Mon, 18 Dec 2017   Prob (F-statistic):           7.44e-12\n",
      "Time:                        18:28:12   Log-Likelihood:                -34.305\n",
      "No. Observations:                 100   AIC:                             74.61\n",
      "Df Residuals:                      97   BIC:                             82.42\n",
      "Df Model:                           3                                         \n",
      "Covariance Type:            nonrobust                                         \n",
      "==============================================================================\n",
      "                 coef    std err          t      P>|t|      [0.025      0.975]\n",
      "------------------------------------------------------------------------------\n",
      "x1             0.1783      0.053      3.364      0.001       0.073       0.283\n",
      "x2             0.2230      0.046      4.818      0.000       0.131       0.315\n",
      "x3             0.5010      0.080      6.237      0.000       0.342       0.660\n",
      "==============================================================================\n",
      "Omnibus:                        4.662   Durbin-Watson:                   2.201\n",
      "Prob(Omnibus):                  0.097   Jarque-Bera (JB):                4.098\n",
      "Skew:                           0.481   Prob(JB):                        0.129\n",
      "Kurtosis:                       3.243   Cond. No.                         1.74\n",
      "==============================================================================\n",
      "\n",
      "Warnings:\n",
      "[1] Standard Errors assume that the covariance matrix of the errors is correctly specified.\n"
     ]
    }
   ],
   "source": [
    "print(results.summary())"
   ]
  },
  {
   "cell_type": "code",
   "execution_count": 41,
   "metadata": {},
   "outputs": [
    {
     "data": {
      "text/html": [
       "<div>\n",
       "<style>\n",
       "    .dataframe thead tr:only-child th {\n",
       "        text-align: right;\n",
       "    }\n",
       "\n",
       "    .dataframe thead th {\n",
       "        text-align: left;\n",
       "    }\n",
       "\n",
       "    .dataframe tbody tr th {\n",
       "        vertical-align: top;\n",
       "    }\n",
       "</style>\n",
       "<table border=\"1\" class=\"dataframe\">\n",
       "  <thead>\n",
       "    <tr style=\"text-align: right;\">\n",
       "      <th></th>\n",
       "      <th>col0</th>\n",
       "      <th>col1</th>\n",
       "      <th>col2</th>\n",
       "      <th>y</th>\n",
       "    </tr>\n",
       "  </thead>\n",
       "  <tbody>\n",
       "    <tr>\n",
       "      <th>0</th>\n",
       "      <td>-0.129468</td>\n",
       "      <td>-1.212753</td>\n",
       "      <td>0.504225</td>\n",
       "      <td>0.427863</td>\n",
       "    </tr>\n",
       "    <tr>\n",
       "      <th>1</th>\n",
       "      <td>0.302910</td>\n",
       "      <td>-0.435742</td>\n",
       "      <td>-0.254180</td>\n",
       "      <td>-0.673480</td>\n",
       "    </tr>\n",
       "    <tr>\n",
       "      <th>2</th>\n",
       "      <td>-0.328522</td>\n",
       "      <td>-0.025302</td>\n",
       "      <td>0.138351</td>\n",
       "      <td>-0.090878</td>\n",
       "    </tr>\n",
       "    <tr>\n",
       "      <th>3</th>\n",
       "      <td>-0.351475</td>\n",
       "      <td>-0.719605</td>\n",
       "      <td>-0.258215</td>\n",
       "      <td>-0.489494</td>\n",
       "    </tr>\n",
       "    <tr>\n",
       "      <th>4</th>\n",
       "      <td>1.243269</td>\n",
       "      <td>-0.373799</td>\n",
       "      <td>-0.522629</td>\n",
       "      <td>-0.128941</td>\n",
       "    </tr>\n",
       "  </tbody>\n",
       "</table>\n",
       "</div>"
      ],
      "text/plain": [
       "       col0      col1      col2         y\n",
       "0 -0.129468 -1.212753  0.504225  0.427863\n",
       "1  0.302910 -0.435742 -0.254180 -0.673480\n",
       "2 -0.328522 -0.025302  0.138351 -0.090878\n",
       "3 -0.351475 -0.719605 -0.258215 -0.489494\n",
       "4  1.243269 -0.373799 -0.522629 -0.128941"
      ]
     },
     "execution_count": 41,
     "metadata": {},
     "output_type": "execute_result"
    }
   ],
   "source": [
    "data = pd.DataFrame(X, columns=['col0', 'col1', 'col2'])\n",
    "data['y'] = y\n",
    "data[:5]"
   ]
  },
  {
   "cell_type": "code",
   "execution_count": 42,
   "metadata": {},
   "outputs": [
    {
     "name": "stdout",
     "output_type": "stream",
     "text": [
      "col0    0.178261\n",
      "col1    0.223040\n",
      "col2    0.500951\n",
      "dtype: float64\n"
     ]
    },
    {
     "data": {
      "text/plain": [
       "col0    3.364123\n",
       "col1    4.818454\n",
       "col2    6.237074\n",
       "dtype: float64"
      ]
     },
     "execution_count": 42,
     "metadata": {},
     "output_type": "execute_result"
    }
   ],
   "source": [
    "results = smf.ols('y ~ col0 + col1 + col2 + 0', data=data).fit()\n",
    "print(results.params)\n",
    "results.tvalues"
   ]
  },
  {
   "cell_type": "code",
   "execution_count": 43,
   "metadata": {},
   "outputs": [
    {
     "data": {
      "text/plain": [
       "0   -0.040979\n",
       "1   -0.170522\n",
       "2    0.005101\n",
       "3   -0.352508\n",
       "4   -0.123557\n",
       "dtype: float64"
      ]
     },
     "execution_count": 43,
     "metadata": {},
     "output_type": "execute_result"
    }
   ],
   "source": [
    "results.predict(data[:5])"
   ]
  },
  {
   "cell_type": "markdown",
   "metadata": {},
   "source": [
    "### Estimating Time Series Processes"
   ]
  },
  {
   "cell_type": "code",
   "execution_count": 58,
   "metadata": {},
   "outputs": [
    {
     "name": "stdout",
     "output_type": "stream",
     "text": [
      "4 4\n",
      "1.86977018119 4\n",
      "0.0197113590032 1.86977018119\n",
      "-1.67159535259 0.0197113590032\n",
      "-1.12411087047 -1.67159535259\n",
      "-0.142162188313 -1.12411087047\n",
      "0.297349228149 -0.142162188313\n",
      "0.370273631113 0.297349228149\n",
      "0.42786720966 0.370273631113\n",
      "0.158098962757 0.42786720966\n",
      "-0.0151432430633 0.158098962757\n",
      "0.0364606394735 -0.0151432430633\n",
      "-0.0243883154834 0.0364606394735\n",
      "-0.137803043419 -0.0243883154834\n",
      "-0.0939193896473 -0.137803043419\n",
      "0.0348525196959 -0.0939193896473\n",
      "0.186951288369 0.0348525196959\n",
      "-0.00324366209781 0.186951288369\n",
      "-0.332600535535 -0.00324366209781\n",
      "-0.379260610586 -0.332600535535\n",
      "0.207708891914 -0.379260610586\n",
      "-0.0183968427035 0.207708891914\n",
      "0.589992716694 -0.0183968427035\n",
      "0.901300111648 0.589992716694\n",
      "0.982025009256 0.901300111648\n",
      "0.521200916008 0.982025009256\n",
      "-0.0918941919441 0.521200916008\n",
      "-0.0139525672011 -0.0918941919441\n",
      "-0.0153852623102 -0.0139525672011\n",
      "0.142654373698 -0.0153852623102\n",
      "0.106073590382 0.142654373698\n",
      "0.267350367427 0.106073590382\n",
      "-0.0685270950608 0.267350367427\n",
      "-0.0836603406713 -0.0685270950608\n",
      "-0.258160031726 -0.0836603406713\n",
      "-0.0972115644086 -0.258160031726\n",
      "-0.0406785525161 -0.0972115644086\n",
      "0.736696723649 -0.0406785525161\n",
      "0.946686284381 0.736696723649\n",
      "0.205623924008 0.946686284381\n",
      "-0.220320686475 0.205623924008\n",
      "-0.0510158106335 -0.220320686475\n",
      "0.0180270614327 -0.0510158106335\n",
      "0.226889365631 0.0180270614327\n",
      "-0.184622235987 0.226889365631\n",
      "-0.881502223455 -0.184622235987\n",
      "-0.622570456225 -0.881502223455\n",
      "-0.340617163965 -0.622570456225\n",
      "-0.268149532531 -0.340617163965\n",
      "0.0594634945357 -0.268149532531\n",
      "-0.0239567558321 0.0594634945357\n",
      "-0.344973175457 -0.0239567558321\n",
      "-0.130482542608 -0.344973175457\n",
      "0.27371709467 -0.130482542608\n",
      "0.664169129217 0.27371709467\n",
      "-0.133184172666 0.664169129217\n",
      "-0.28492372788 -0.133184172666\n",
      "-0.0793723002682 -0.28492372788\n",
      "0.429265072061 -0.0793723002682\n",
      "-0.0119699198687 0.429265072061\n",
      "0.0253866731569 -0.0119699198687\n",
      "-0.00973715346859 0.0253866731569\n",
      "-0.0893086319485 -0.00973715346859\n",
      "-0.35316829196 -0.0893086319485\n",
      "0.0921225239696 -0.35316829196\n",
      "0.0703535474305 0.0921225239696\n",
      "0.0752263610556 0.0703535474305\n",
      "-0.00447223352548 0.0752263610556\n",
      "-0.0728096070294 -0.00447223352548\n",
      "0.318678282684 -0.0728096070294\n",
      "0.098607470864 0.318678282684\n",
      "-0.0207834431546 0.098607470864\n",
      "-0.0145224548148 -0.0207834431546\n",
      "0.261921598015 -0.0145224548148\n",
      "0.233052495217 0.261921598015\n",
      "-0.0820566712051 0.233052495217\n",
      "-0.238162761568 -0.0820566712051\n",
      "-0.0725625016124 -0.238162761568\n",
      "0.0349667593573 -0.0725625016124\n",
      "0.000480455473738 0.0349667593573\n",
      "-0.644228671303 0.000480455473738\n",
      "0.000830196730929 -0.644228671303\n",
      "-0.154813980338 0.000830196730929\n",
      "-0.37402040855 -0.154813980338\n",
      "-0.466374967773 -0.37402040855\n",
      "-0.645484334251 -0.466374967773\n",
      "-0.799976496719 -0.645484334251\n",
      "-0.597277729589 -0.799976496719\n",
      "-0.029522230197 -0.597277729589\n",
      "0.41281609234 -0.029522230197\n",
      "0.689509413495 0.41281609234\n",
      "0.168632678337 0.689509413495\n",
      "-0.606301821672 0.168632678337\n",
      "-0.59043478301 -0.606301821672\n",
      "-0.256464998495 -0.59043478301\n",
      "-0.135434095745 -0.256464998495\n",
      "-0.313117596738 -0.135434095745\n",
      "-0.742221495238 -0.313117596738\n",
      "-0.438810168211 -0.742221495238\n",
      "-0.0995387522263 -0.438810168211\n",
      "-0.19219643471 -0.0995387522263\n",
      "-0.411703678381 -0.19219643471\n",
      "0.206206578675 -0.411703678381\n",
      "0.558854601079 0.206206578675\n",
      "0.435267165546 0.558854601079\n",
      "0.325851572909 0.435267165546\n",
      "0.236988335053 0.325851572909\n",
      "0.152334601408 0.236988335053\n",
      "0.150941632687 0.152334601408\n",
      "0.255215604595 0.150941632687\n",
      "-0.370012899357 0.255215604595\n",
      "-0.54366904535 -0.370012899357\n",
      "-0.508303137717 -0.54366904535\n",
      "-0.174402059596 -0.508303137717\n",
      "-0.392814675834 -0.174402059596\n",
      "-0.524358628111 -0.392814675834\n",
      "-0.205699693498 -0.524358628111\n",
      "-0.0926267725872 -0.205699693498\n",
      "0.51703697092 -0.0926267725872\n",
      "0.338724770824 0.51703697092\n",
      "-0.285787960823 0.338724770824\n",
      "-0.509569721151 -0.285787960823\n",
      "-0.388202371182 -0.509569721151\n",
      "-0.118504488015 -0.388202371182\n",
      "0.0103005741064 -0.118504488015\n",
      "-0.233929926348 0.0103005741064\n",
      "-0.103832992576 -0.233929926348\n",
      "-0.0917421454817 -0.103832992576\n",
      "0.563601489274 -0.0917421454817\n",
      "0.561431570225 0.563601489274\n",
      "0.279378910764 0.561431570225\n",
      "0.402776505901 0.279378910764\n",
      "0.673423942384 0.402776505901\n",
      "0.292843241534 0.673423942384\n",
      "-0.560085406927 0.292843241534\n",
      "-0.235901297627 -0.560085406927\n",
      "0.0619711885586 -0.235901297627\n",
      "0.26894970057 0.0619711885586\n",
      "0.590171444651 0.26894970057\n",
      "0.0681207075118 0.590171444651\n",
      "-0.70529494316 0.0681207075118\n",
      "-1.19355833238 -0.70529494316\n",
      "-1.151542786 -1.19355833238\n",
      "-0.0482306865057 -1.151542786\n",
      "0.907098724783 -0.0482306865057\n",
      "0.652039978799 0.907098724783\n",
      "0.266077931998 0.652039978799\n",
      "0.171325188624 0.266077931998\n",
      "-0.0300490198826 0.171325188624\n",
      "-0.310484757647 -0.0300490198826\n",
      "-0.236375659566 -0.310484757647\n",
      "-0.163583693322 -0.236375659566\n",
      "-0.350828521983 -0.163583693322\n",
      "0.0592320645616 -0.350828521983\n",
      "0.354898123656 0.0592320645616\n",
      "0.219277154144 0.354898123656\n",
      "0.416574801593 0.219277154144\n",
      "0.122853271984 0.416574801593\n",
      "-0.381868231366 0.122853271984\n",
      "-1.01212523199 -0.381868231366\n",
      "-1.35469302779 -1.01212523199\n",
      "-0.772022739467 -1.35469302779\n",
      "-0.256340067896 -0.772022739467\n",
      "-0.219293799592 -0.256340067896\n",
      "-0.0270091054755 -0.219293799592\n",
      "-0.605173811081 -0.0270091054755\n",
      "-0.21197603168 -0.605173811081\n",
      "-0.0750387210335 -0.21197603168\n",
      "-0.374693514601 -0.0750387210335\n",
      "-0.429675154218 -0.374693514601\n",
      "-0.714639507602 -0.429675154218\n",
      "0.0267717845955 -0.714639507602\n",
      "0.367635570342 0.0267717845955\n",
      "0.133991936339 0.367635570342\n",
      "0.353387975281 0.133991936339\n",
      "0.0887411846549 0.353387975281\n",
      "0.214656211798 0.0887411846549\n",
      "0.24444524549 0.214656211798\n",
      "0.27936267312 0.24444524549\n",
      "-0.300236286892 0.27936267312\n",
      "-0.306513781103 -0.300236286892\n",
      "-0.449765623359 -0.306513781103\n",
      "0.102853878502 -0.449765623359\n",
      "0.245391828443 0.102853878502\n",
      "0.177828731165 0.245391828443\n",
      "0.0643817249811 0.177828731165\n",
      "-0.2026553605 0.0643817249811\n",
      "-0.507186188106 -0.2026553605\n",
      "-0.963622591985 -0.507186188106\n",
      "-0.879256112846 -0.963622591985\n",
      "-0.52439690403 -0.879256112846\n",
      "-0.0646604994048 -0.52439690403\n",
      "0.593516134481 -0.0646604994048\n",
      "0.477152585275 0.593516134481\n",
      "-0.517007769487 0.477152585275\n",
      "-0.744992624696 -0.517007769487\n",
      "-0.0458061196683 -0.744992624696\n",
      "0.135493640739 -0.0458061196683\n",
      "-0.147197433863 0.135493640739\n",
      "-0.233818942599 -0.147197433863\n",
      "0.656791491169 -0.233818942599\n",
      "1.1218098525 0.656791491169\n",
      "0.375294881533 1.1218098525\n",
      "-0.455728707736 0.375294881533\n",
      "-0.640200927951 -0.455728707736\n",
      "0.347525706387 -0.640200927951\n",
      "0.63214207831 0.347525706387\n",
      "0.378187219625 0.63214207831\n",
      "0.127558167392 0.378187219625\n",
      "-0.167757678646 0.127558167392\n",
      "-0.0769415624627 -0.167757678646\n",
      "0.430008895906 -0.0769415624627\n",
      "0.392130716405 0.430008895906\n",
      "0.646304262631 0.392130716405\n",
      "-0.007639256194 0.646304262631\n",
      "-0.666785041095 -0.007639256194\n",
      "-0.323768303999 -0.666785041095\n",
      "-0.340581477874 -0.323768303999\n",
      "-0.147434457464 -0.340581477874\n",
      "0.292398242155 -0.147434457464\n",
      "0.879470222067 0.292398242155\n",
      "0.237588806342 0.879470222067\n",
      "-0.038099418458 0.237588806342\n",
      "-0.459421734818 -0.038099418458\n",
      "-0.350658830267 -0.459421734818\n",
      "0.426686841022 -0.350658830267\n",
      "0.0152693361488 0.426686841022\n",
      "-0.758239980821 0.0152693361488\n",
      "-0.401334042403 -0.758239980821\n",
      "-0.0699769080707 -0.401334042403\n",
      "-0.0265450789162 -0.0699769080707\n",
      "0.0129592274593 -0.0265450789162\n",
      "-0.457369298982 0.0129592274593\n",
      "0.0556071466923 -0.457369298982\n",
      "0.502311960223 0.0556071466923\n",
      "0.615024903489 0.502311960223\n",
      "0.516372688634 0.615024903489\n",
      "0.270803467985 0.516372688634\n",
      "-0.111365824086 0.270803467985\n",
      "0.010144064933 -0.111365824086\n",
      "-0.168646422484 0.010144064933\n",
      "0.0602494068563 -0.168646422484\n",
      "-0.0768934886124 0.0602494068563\n",
      "0.59444404353 -0.0768934886124\n",
      "0.18429049113 0.59444404353\n",
      "-0.238802074041 0.18429049113\n",
      "-0.146905528194 -0.238802074041\n",
      "-0.353123114474 -0.146905528194\n",
      "-0.469743080523 -0.353123114474\n",
      "-0.86882146245 -0.469743080523\n",
      "-0.55313284353 -0.86882146245\n",
      "-0.695304203801 -0.55313284353\n",
      "-0.0526450610658 -0.695304203801\n",
      "0.607653781629 -0.0526450610658\n",
      "0.184399513035 0.607653781629\n",
      "0.0171676192458 0.184399513035\n",
      "0.0825397930713 0.0171676192458\n",
      "0.126970354832 0.0825397930713\n",
      "-0.092089892959 0.126970354832\n",
      "0.193300553252 -0.092089892959\n",
      "0.639353475538 0.193300553252\n",
      "0.137348393592 0.639353475538\n",
      "-0.141629989317 0.137348393592\n",
      "0.0493816705305 -0.141629989317\n",
      "0.546026397438 0.0493816705305\n",
      "0.736164885506 0.546026397438\n",
      "-0.15311065585 0.736164885506\n",
      "-0.243470464535 -0.15311065585\n",
      "0.089548410116 -0.243470464535\n",
      "0.09736741833 0.089548410116\n",
      "0.58180702425 0.09736741833\n",
      "0.0822696946358 0.58180702425\n",
      "0.108713104428 0.0822696946358\n",
      "-0.204804615749 0.108713104428\n",
      "-0.700282697865 -0.204804615749\n",
      "-0.0511549627052 -0.700282697865\n",
      "0.149114533883 -0.0511549627052\n",
      "-0.124092896766 0.149114533883\n",
      "0.177545898808 -0.124092896766\n",
      "0.0293047380068 0.177545898808\n",
      "0.180174595607 0.0293047380068\n",
      "-0.01473386765 0.180174595607\n",
      "0.577103098917 -0.01473386765\n",
      "0.535896969902 0.577103098917\n",
      "0.167263872098 0.535896969902\n",
      "-0.409352959482 0.167263872098\n",
      "-0.523548509846 -0.409352959482\n",
      "0.063364105257 -0.523548509846\n",
      "-0.107890030586 0.063364105257\n",
      "0.3215579418 -0.107890030586\n",
      "-0.0550554978051 0.3215579418\n",
      "-0.35434408746 -0.0550554978051\n",
      "-0.428316330046 -0.35434408746\n",
      "-0.00997931085902 -0.428316330046\n",
      "-0.208405038117 -0.00997931085902\n",
      "-0.480245249253 -0.208405038117\n",
      "-0.971705734356 -0.480245249253\n",
      "-0.315361103092 -0.971705734356\n",
      "0.359817444927 -0.315361103092\n",
      "0.412430065959 0.359817444927\n",
      "-0.126327144475 0.412430065959\n",
      "-0.0755787970549 -0.126327144475\n",
      "0.0983881332557 -0.0755787970549\n",
      "0.727252636834 0.0983881332557\n",
      "0.597900759923 0.727252636834\n",
      "-0.100101204624 0.597900759923\n",
      "-0.216045654668 -0.100101204624\n",
      "-0.0881687953493 -0.216045654668\n",
      "-0.400252011524 -0.0881687953493\n",
      "0.0220538230728 -0.400252011524\n",
      "0.189542215941 0.0220538230728\n",
      "0.475559648296 0.189542215941\n",
      "0.2158660673 0.475559648296\n",
      "-0.237110482539 0.2158660673\n",
      "-0.00346051846877 -0.237110482539\n",
      "0.0797364777248 -0.00346051846877\n",
      "-0.111726450257 0.0797364777248\n",
      "-0.576205601876 -0.111726450257\n",
      "-0.327919095581 -0.576205601876\n",
      "-0.234862356891 -0.327919095581\n",
      "-0.245785605773 -0.234862356891\n",
      "0.157780316052 -0.245785605773\n",
      "0.14922948626 0.157780316052\n",
      "0.056560058233 0.14922948626\n",
      "-0.297654644309 0.056560058233\n",
      "-0.302709126228 -0.297654644309\n",
      "-0.436063512598 -0.302709126228\n",
      "0.3916788687 -0.436063512598\n",
      "0.780187974766 0.3916788687\n",
      "0.989311670452 0.780187974766\n",
      "0.545792988535 0.989311670452\n",
      "-0.264923699578 0.545792988535\n",
      "-0.71799523164 -0.264923699578\n",
      "-0.419483566938 -0.71799523164\n",
      "0.22490602045 -0.419483566938\n",
      "0.0911299313627 0.22490602045\n",
      "0.00703738208757 0.0911299313627\n",
      "-0.248216058192 0.00703738208757\n",
      "-0.396895992787 -0.248216058192\n",
      "-0.785718683599 -0.396895992787\n",
      "-0.117042767693 -0.785718683599\n",
      "-0.373458179912 -0.117042767693\n",
      "0.0705183425969 -0.373458179912\n",
      "0.579923709057 0.0705183425969\n",
      "0.00816537224117 0.579923709057\n",
      "0.00118778402771 0.00816537224117\n",
      "-0.141125395713 0.00118778402771\n",
      "-0.116629601945 -0.141125395713\n",
      "-0.0792731606005 -0.116629601945\n",
      "0.0236012244865 -0.0792731606005\n",
      "-0.831018949048 0.0236012244865\n",
      "-0.406656440069 -0.831018949048\n",
      "0.0436585837044 -0.406656440069\n",
      "0.0653748309286 0.0436585837044\n",
      "-0.0891916566785 0.0653748309286\n",
      "0.0923849550581 -0.0891916566785\n",
      "-0.0159838535134 0.0923849550581\n",
      "-0.491905903743 -0.0159838535134\n",
      "-0.596238943612 -0.491905903743\n",
      "0.0786795130768 -0.596238943612\n",
      "0.320461484325 0.0786795130768\n",
      "0.0255343566867 0.320461484325\n",
      "-0.836093782684 0.0255343566867\n",
      "-0.319868828953 -0.836093782684\n",
      "0.0910274821896 -0.319868828953\n",
      "0.672781930703 0.0910274821896\n",
      "0.571266996282 0.672781930703\n",
      "-0.581680282596 0.571266996282\n",
      "-0.716578683802 -0.581680282596\n",
      "-0.795529742036 -0.716578683802\n",
      "-0.654336604681 -0.795529742036\n",
      "0.0129363753563 -0.654336604681\n",
      "-0.0990208086996 0.0129363753563\n",
      "0.0853454595534 -0.0990208086996\n",
      "0.343781082159 0.0853454595534\n",
      "0.187443502917 0.343781082159\n",
      "-0.172646980034 0.187443502917\n",
      "-0.463922861661 -0.172646980034\n",
      "-0.22596654625 -0.463922861661\n",
      "-0.0425454661141 -0.22596654625\n",
      "-0.136012388085 -0.0425454661141\n",
      "0.144313776974 -0.136012388085\n",
      "0.252076136375 0.144313776974\n",
      "-0.348334137768 0.252076136375\n",
      "-0.016705562329 -0.348334137768\n",
      "0.364854879366 -0.016705562329\n",
      "0.330524897951 0.364854879366\n",
      "-0.329651959179 0.330524897951\n",
      "-0.667254668214 -0.329651959179\n",
      "-0.638341032351 -0.667254668214\n",
      "-0.331181866615 -0.638341032351\n",
      "-0.1759932342 -0.331181866615\n",
      "-0.357728134688 -0.1759932342\n",
      "-0.150902528492 -0.357728134688\n",
      "-0.185839982634 -0.150902528492\n",
      "-0.616888356572 -0.185839982634\n",
      "-0.624206959118 -0.616888356572\n",
      "-0.898398299089 -0.624206959118\n",
      "-0.0983280866843 -0.898398299089\n",
      "0.0715933955866 -0.0983280866843\n",
      "0.548163541978 0.0715933955866\n",
      "-0.0251236750662 0.548163541978\n",
      "-0.193103370178 -0.0251236750662\n",
      "-0.440325135947 -0.193103370178\n",
      "-0.732580891588 -0.440325135947\n",
      "0.00877818207241 -0.732580891588\n",
      "0.887654768291 0.00877818207241\n",
      "0.784056001273 0.887654768291\n",
      "0.381465855677 0.784056001273\n",
      "-0.0712452453149 0.381465855677\n",
      "-0.554529006062 -0.0712452453149\n",
      "-0.300378074244 -0.554529006062\n",
      "-0.315250803474 -0.300378074244\n",
      "-0.646187870481 -0.315250803474\n",
      "-0.432500607315 -0.646187870481\n",
      "0.112902240127 -0.432500607315\n",
      "0.0416573234646 0.112902240127\n",
      "0.229439549272 0.0416573234646\n",
      "0.760604113738 0.229439549272\n",
      "0.982254935289 0.760604113738\n",
      "0.769130391236 0.982254935289\n",
      "0.41182510134 0.769130391236\n",
      "0.408013523246 0.41182510134\n",
      "-0.142228331978 0.408013523246\n",
      "-0.692684311559 -0.142228331978\n",
      "-0.165091929807 -0.692684311559\n",
      "-0.159367266298 -0.165091929807\n",
      "0.119887165497 -0.159367266298\n",
      "-0.420628394165 0.119887165497\n",
      "-0.422246818196 -0.420628394165\n",
      "0.00870175307431 -0.422246818196\n",
      "-0.0548174327217 0.00870175307431\n",
      "0.00797280798615 -0.0548174327217\n",
      "-0.0874160667476 0.00797280798615\n",
      "0.0561977168698 -0.0874160667476\n",
      "0.340159900439 0.0561977168698\n",
      "-0.071003099996 0.340159900439\n",
      "-0.139486714928 -0.071003099996\n",
      "-0.0206622443359 -0.139486714928\n",
      "-0.0831871739125 -0.0206622443359\n",
      "-0.213778994626 -0.0831871739125\n",
      "-0.0373470552607 -0.213778994626\n",
      "-0.230013208424 -0.0373470552607\n",
      "0.0851458230117 -0.230013208424\n",
      "-0.157062370205 0.0851458230117\n",
      "-0.546113638217 -0.157062370205\n",
      "-0.785517442631 -0.546113638217\n",
      "-0.255479713857 -0.785517442631\n",
      "0.206572957512 -0.255479713857\n",
      "0.605252773219 0.206572957512\n",
      "0.678111381283 0.605252773219\n",
      "0.198233634469 0.678111381283\n",
      "0.200517508 0.198233634469\n",
      "0.412221160793 0.200517508\n",
      "0.356857108956 0.412221160793\n",
      "-0.0234241286542 0.356857108956\n",
      "-0.297572388534 -0.0234241286542\n",
      "-0.175184831226 -0.297572388534\n",
      "0.179240877272 -0.175184831226\n",
      "-0.165310142797 0.179240877272\n",
      "-0.0846701388074 -0.165310142797\n",
      "-0.361096799736 -0.0846701388074\n",
      "-0.333538199635 -0.361096799736\n",
      "0.223735159179 -0.333538199635\n",
      "0.770000517 0.223735159179\n",
      "0.43545920499 0.770000517\n",
      "-0.29418466581 0.43545920499\n",
      "-0.946074574894 -0.29418466581\n",
      "-0.437491296708 -0.946074574894\n",
      "-0.198162092113 -0.437491296708\n",
      "0.0271239263147 -0.198162092113\n",
      "0.739620610961 0.0271239263147\n",
      "0.852500300529 0.739620610961\n",
      "0.147432691979 0.852500300529\n",
      "-0.0189374072942 0.147432691979\n",
      "0.27131821608 -0.0189374072942\n",
      "0.0331806743408 0.27131821608\n",
      "-0.880571119191 0.0331806743408\n",
      "-1.04387522861 -0.880571119191\n",
      "-0.350689806069 -1.04387522861\n",
      "-0.177234663607 -0.350689806069\n",
      "0.278453901082 -0.177234663607\n",
      "0.627242937445 0.278453901082\n",
      "0.41191909627 0.627242937445\n",
      "-0.185535461587 0.41191909627\n",
      "-0.241990777866 -0.185535461587\n",
      "-0.388441913757 -0.241990777866\n",
      "-0.682060785315 -0.388441913757\n",
      "-0.713583709386 -0.682060785315\n",
      "-1.03746848339 -0.713583709386\n",
      "-0.238186019188 -1.03746848339\n",
      "0.0924367965378 -0.238186019188\n",
      "0.0106744243264 0.0924367965378\n",
      "-0.302984861943 0.0106744243264\n",
      "-0.294340250559 -0.302984861943\n",
      "0.36095680996 -0.294340250559\n",
      "0.236014527879 0.36095680996\n",
      "0.374838749537 0.236014527879\n",
      "0.375514352892 0.374838749537\n",
      "-0.0631110683685 0.375514352892\n",
      "-0.510392158102 -0.0631110683685\n",
      "-0.222637914267 -0.510392158102\n",
      "0.356870724872 -0.222637914267\n",
      "1.01997351437 0.356870724872\n",
      "0.544696690424 1.01997351437\n",
      "-0.0394046594589 0.544696690424\n",
      "-0.0279588761299 -0.0394046594589\n",
      "-0.359131760953 -0.0279588761299\n",
      "-0.345538743521 -0.359131760953\n",
      "0.0706559145673 -0.345538743521\n",
      "0.470458952969 0.0706559145673\n",
      "0.111308680693 0.470458952969\n",
      "-0.479262990146 0.111308680693\n",
      "0.0891245024928 -0.479262990146\n",
      "0.211938330249 0.0891245024928\n",
      "0.205093277344 0.211938330249\n",
      "-0.00216009752357 0.205093277344\n",
      "-0.488363810867 -0.00216009752357\n",
      "-0.415010281244 -0.488363810867\n",
      "0.20052393177 -0.415010281244\n",
      "0.0419330023395 0.20052393177\n",
      "-0.223178837577 0.0419330023395\n",
      "-0.631926001405 -0.223178837577\n",
      "-0.210107458787 -0.631926001405\n",
      "0.026261325002 -0.210107458787\n",
      "-0.210652658908 0.026261325002\n",
      "-0.261525209893 -0.210652658908\n",
      "0.221572592552 -0.261525209893\n",
      "0.510543479389 0.221572592552\n",
      "0.738205441434 0.510543479389\n",
      "-0.361667971388 0.738205441434\n",
      "-0.51048203063 -0.361667971388\n",
      "-0.543166801048 -0.51048203063\n",
      "-0.664036856043 -0.543166801048\n",
      "-0.377103718708 -0.664036856043\n",
      "-0.0219469510678 -0.377103718708\n",
      "-0.186636937872 -0.0219469510678\n",
      "-0.0980357998006 -0.186636937872\n",
      "0.485522536792 -0.0980357998006\n",
      "0.601059298706 0.485522536792\n",
      "0.196646128433 0.601059298706\n",
      "0.565938834414 0.196646128433\n",
      "0.766794552314 0.565938834414\n",
      "0.334144255653 0.766794552314\n",
      "0.17046059773 0.334144255653\n",
      "-0.895305072198 0.17046059773\n",
      "-0.925914016087 -0.895305072198\n",
      "-0.278387495935 -0.925914016087\n",
      "0.112214224023 -0.278387495935\n",
      "0.124537286537 0.112214224023\n",
      "-0.457908190599 0.124537286537\n",
      "-0.443481002583 -0.457908190599\n",
      "-0.587233244752 -0.443481002583\n",
      "-0.767381032613 -0.587233244752\n",
      "-0.432362803946 -0.767381032613\n",
      "-0.0189007354691 -0.432362803946\n",
      "0.4325655796 -0.0189007354691\n",
      "0.704966871993 0.4325655796\n",
      "0.297223633464 0.704966871993\n",
      "0.309020477586 0.297223633464\n",
      "0.203152899531 0.309020477586\n",
      "0.176670586364 0.203152899531\n",
      "-0.0875860504466 0.176670586364\n",
      "-0.187086367722 -0.0875860504466\n",
      "0.003353164048 -0.187086367722\n",
      "-0.00176502563209 0.003353164048\n",
      "-0.40350312709 -0.00176502563209\n",
      "-0.100442632475 -0.40350312709\n",
      "0.000708401903806 -0.100442632475\n",
      "0.243063916639 0.000708401903806\n",
      "0.0647013035698 0.243063916639\n",
      "-0.284275658144 0.0647013035698\n",
      "0.172659811488 -0.284275658144\n",
      "0.519767230194 0.172659811488\n",
      "0.305490670344 0.519767230194\n",
      "-0.626342343129 0.305490670344\n",
      "-0.845153855784 -0.626342343129\n",
      "-0.48755222258 -0.845153855784\n",
      "0.31284613849 -0.48755222258\n",
      "0.62160027963 0.31284613849\n",
      "0.665772448593 0.62160027963\n",
      "-0.000660266338553 0.665772448593\n",
      "0.225811420555 -0.000660266338553\n",
      "-0.00140626503611 0.225811420555\n",
      "-0.135637878536 -0.00140626503611\n",
      "0.0333004698149 -0.135637878536\n",
      "0.297574201677 0.0333004698149\n",
      "0.00547272560282 0.297574201677\n",
      "-0.268455655548 0.00547272560282\n",
      "-0.649807369421 -0.268455655548\n",
      "-0.65504398791 -0.649807369421\n",
      "-0.265775952857 -0.65504398791\n",
      "0.146865112757 -0.265775952857\n",
      "0.0586801727954 0.146865112757\n",
      "0.043555748023 0.0586801727954\n",
      "-0.314166217966 0.043555748023\n",
      "0.439024518198 -0.314166217966\n",
      "0.183262383306 0.439024518198\n",
      "-0.214891873566 0.183262383306\n",
      "0.20678515774 -0.214891873566\n",
      "-0.435907539796 0.20678515774\n",
      "-0.320791688125 -0.435907539796\n",
      "0.190799359266 -0.320791688125\n",
      "0.442800231733 0.190799359266\n",
      "0.835107768323 0.442800231733\n",
      "0.275527003967 0.835107768323\n",
      "0.0735700419979 0.275527003967\n",
      "0.103895287992 0.0735700419979\n",
      "-0.1676522052 0.103895287992\n",
      "-0.361340715304 -0.1676522052\n",
      "0.24607534062 -0.361340715304\n",
      "0.301835559466 0.24607534062\n",
      "-0.183638679228 0.301835559466\n",
      "0.505571241748 -0.183638679228\n",
      "0.470956073337 0.505571241748\n",
      "0.00660358182735 0.470956073337\n",
      "0.414943916844 0.00660358182735\n",
      "-0.166240393438 0.414943916844\n",
      "-0.536982270129 -0.166240393438\n",
      "0.00487286549919 -0.536982270129\n",
      "0.196057059522 0.00487286549919\n",
      "0.944801541011 0.196057059522\n",
      "1.17293102619 0.944801541011\n",
      "0.472982704969 1.17293102619\n",
      "0.0599279119599 0.472982704969\n",
      "-0.228373433482 0.0599279119599\n",
      "0.0563068492332 -0.228373433482\n",
      "0.535227077703 0.0563068492332\n",
      "0.281762507628 0.535227077703\n",
      "-0.0397811711976 0.281762507628\n",
      "0.495312787357 -0.0397811711976\n",
      "0.550994570785 0.495312787357\n",
      "0.698105775522 0.550994570785\n",
      "0.316842541762 0.698105775522\n",
      "-0.137959596602 0.316842541762\n",
      "-0.157016900148 -0.137959596602\n",
      "0.00865388552647 -0.157016900148\n",
      "0.185082822578 0.00865388552647\n",
      "-0.126395752103 0.185082822578\n",
      "-0.316401802714 -0.126395752103\n",
      "0.186094077963 -0.316401802714\n",
      "-0.217256537751 0.186094077963\n",
      "-0.339739874315 -0.217256537751\n",
      "-0.258421946668 -0.339739874315\n",
      "0.0585917505276 -0.258421946668\n",
      "-0.106911147267 0.0585917505276\n",
      "-0.101488216528 -0.106911147267\n",
      "0.0351857419041 -0.101488216528\n",
      "-0.0405847250344 0.0351857419041\n",
      "0.433862821373 -0.0405847250344\n",
      "0.698729727944 0.433862821373\n"
     ]
    },
    {
     "name": "stdout",
     "output_type": "stream",
     "text": [
      "-0.0751022639727 0.698729727944\n",
      "0.0172641058786 -0.0751022639727\n",
      "0.0540240588884 0.0172641058786\n",
      "-0.117304465498 0.0540240588884\n",
      "0.258189902452 -0.117304465498\n",
      "-0.478290649142 0.258189902452\n",
      "-0.759709291758 -0.478290649142\n",
      "-0.561261787065 -0.759709291758\n",
      "-0.0691170855322 -0.561261787065\n",
      "-0.412536300051 -0.0691170855322\n",
      "-0.119355588983 -0.412536300051\n",
      "-0.362157052799 -0.119355588983\n",
      "-0.204933820495 -0.362157052799\n",
      "-0.0628008957807 -0.204933820495\n",
      "-0.363936134534 -0.0628008957807\n",
      "-0.610323811638 -0.363936134534\n",
      "-1.00473382322 -0.610323811638\n",
      "-0.594923410955 -1.00473382322\n",
      "-0.224452260031 -0.594923410955\n",
      "0.246691147619 -0.224452260031\n",
      "0.608919380002 0.246691147619\n",
      "0.497649825409 0.608919380002\n",
      "0.656876928178 0.497649825409\n",
      "-0.114587295517 0.656876928178\n",
      "-0.443541445798 -0.114587295517\n",
      "-0.274424886093 -0.443541445798\n",
      "-0.182571082006 -0.274424886093\n",
      "0.41990667918 -0.182571082006\n",
      "0.517201774236 0.41990667918\n",
      "0.340564212414 0.517201774236\n",
      "-0.108551030445 0.340564212414\n",
      "0.349274523892 -0.108551030445\n",
      "0.330973792222 0.349274523892\n",
      "0.0740166460449 0.330973792222\n",
      "0.803216826321 0.0740166460449\n",
      "0.758704634055 0.803216826321\n",
      "0.821569415155 0.758704634055\n",
      "0.057914576187 0.821569415155\n",
      "-0.0397544179927 0.057914576187\n",
      "-0.700313523377 -0.0397544179927\n",
      "-0.823449885717 -0.700313523377\n",
      "-0.736418941819 -0.823449885717\n",
      "-0.104640322453 -0.736418941819\n",
      "0.200573476176 -0.104640322453\n",
      "0.366620407941 0.200573476176\n",
      "0.096166732986 0.366620407941\n",
      "-0.216206613964 0.096166732986\n",
      "-0.109158367956 -0.216206613964\n",
      "0.128073083391 -0.109158367956\n",
      "0.509039759949 0.128073083391\n",
      "0.409351587312 0.509039759949\n",
      "0.758433580991 0.409351587312\n",
      "0.761605834305 0.758433580991\n",
      "-0.181394282368 0.761605834305\n",
      "-0.0966168818016 -0.181394282368\n",
      "0.370219843382 -0.0966168818016\n",
      "0.508171906582 0.370219843382\n",
      "0.0187246179418 0.508171906582\n",
      "-0.792177806843 0.0187246179418\n",
      "-0.58518657684 -0.792177806843\n",
      "-0.205702298512 -0.58518657684\n",
      "-0.765649032603 -0.205702298512\n",
      "-0.328242638269 -0.765649032603\n",
      "0.271527395176 -0.328242638269\n",
      "0.671573701258 0.271527395176\n",
      "0.499858946141 0.671573701258\n",
      "0.0516041683399 0.499858946141\n",
      "-0.542534552012 0.0516041683399\n",
      "-0.732588388084 -0.542534552012\n",
      "-0.765671088563 -0.732588388084\n",
      "-0.00656935465138 -0.765671088563\n",
      "0.543113511664 -0.00656935465138\n",
      "0.617491003932 0.543113511664\n",
      "0.384531883562 0.617491003932\n",
      "0.212325368095 0.384531883562\n",
      "0.784758814983 0.212325368095\n",
      "0.586885975582 0.784758814983\n",
      "0.158524437002 0.586885975582\n",
      "-0.0243009808356 0.158524437002\n",
      "0.166479109592 -0.0243009808356\n",
      "0.113998322364 0.166479109592\n",
      "0.318279101879 0.113998322364\n",
      "0.219624686081 0.318279101879\n",
      "0.425119081856 0.219624686081\n",
      "0.146009934449 0.425119081856\n",
      "0.191814395102 0.146009934449\n",
      "-0.291470883632 0.191814395102\n",
      "-0.642708017333 -0.291470883632\n",
      "-0.247114175184 -0.642708017333\n",
      "0.536858521999 -0.247114175184\n",
      "0.560499946242 0.536858521999\n",
      "-0.152353777556 0.560499946242\n",
      "-0.410581239701 -0.152353777556\n",
      "-0.317590129096 -0.410581239701\n",
      "-0.21866146351 -0.317590129096\n",
      "0.102344463501 -0.21866146351\n",
      "0.351736567817 0.102344463501\n",
      "0.175325508113 0.351736567817\n",
      "-0.693634035439 0.175325508113\n",
      "-0.604799575161 -0.693634035439\n",
      "-0.791493647043 -0.604799575161\n",
      "-0.216648456798 -0.791493647043\n",
      "0.712653533143 -0.216648456798\n",
      "0.668808723606 0.712653533143\n",
      "0.0680077742186 0.668808723606\n",
      "-0.696621471733 0.0680077742186\n",
      "-1.07769690915 -0.696621471733\n",
      "-0.477007185714 -1.07769690915\n",
      "-1.00475673369 -0.477007185714\n",
      "-1.00534150387 -1.00475673369\n",
      "-0.608188882421 -1.00534150387\n",
      "-0.060300829209 -0.608188882421\n",
      "-0.159364631793 -0.060300829209\n",
      "0.510560081443 -0.159364631793\n",
      "0.0815088154625 0.510560081443\n",
      "-0.256033252604 0.0815088154625\n",
      "-0.353291230344 -0.256033252604\n",
      "-0.0702725237345 -0.353291230344\n",
      "0.334081214478 -0.0702725237345\n",
      "0.260687780842 0.334081214478\n",
      "-0.0460366369334 0.260687780842\n",
      "-0.570221772624 -0.0460366369334\n",
      "-0.656649821815 -0.570221772624\n",
      "0.576656035002 -0.656649821815\n",
      "0.618517091602 0.576656035002\n",
      "-0.225856381908 0.618517091602\n",
      "-0.372736067667 -0.225856381908\n",
      "-0.154617066783 -0.372736067667\n",
      "0.634309438212 -0.154617066783\n",
      "0.607505484876 0.634309438212\n",
      "0.750420932738 0.607505484876\n",
      "0.446917404567 0.750420932738\n",
      "-0.20218155343 0.446917404567\n",
      "0.0242244334587 -0.20218155343\n",
      "0.132674631194 0.0242244334587\n",
      "0.781504105967 0.132674631194\n",
      "0.836804261135 0.781504105967\n",
      "0.781082496736 0.836804261135\n",
      "0.368689826057 0.781082496736\n",
      "-0.387494139576 0.368689826057\n",
      "-0.867828686313 -0.387494139576\n",
      "-0.942607707864 -0.867828686313\n",
      "-0.564638982793 -0.942607707864\n",
      "0.455622408104 -0.564638982793\n",
      "0.356842198959 0.455622408104\n",
      "-0.243020513949 0.356842198959\n",
      "0.1195672095 -0.243020513949\n",
      "0.00843637177541 0.1195672095\n",
      "0.0153108562742 0.00843637177541\n",
      "0.161143364179 0.0153108562742\n",
      "0.164925307277 0.161143364179\n",
      "0.191952602296 0.164925307277\n",
      "-0.17559827623 0.191952602296\n",
      "-0.0461000924401 -0.17559827623\n",
      "0.688347629995 -0.0461000924401\n",
      "0.153194305353 0.688347629995\n",
      "-0.546623178248 0.153194305353\n",
      "-0.142605101219 -0.546623178248\n",
      "0.093192413503 -0.142605101219\n",
      "0.34064471311 0.093192413503\n",
      "0.0788114589325 0.34064471311\n",
      "0.050268166002 0.0788114589325\n",
      "-0.208672132265 0.050268166002\n",
      "-0.174873338639 -0.208672132265\n",
      "-0.845125622027 -0.174873338639\n",
      "-0.998549199966 -0.845125622027\n",
      "-0.703719831723 -0.998549199966\n",
      "-0.446019184341 -0.703719831723\n",
      "0.261668932489 -0.446019184341\n",
      "0.208115808067 0.261668932489\n",
      "0.0611203403438 0.208115808067\n",
      "0.414582178265 0.0611203403438\n",
      "0.178180123011 0.414582178265\n",
      "0.0224588306965 0.178180123011\n",
      "-0.159436961991 0.0224588306965\n",
      "-0.0372003444984 -0.159436961991\n",
      "-0.0786719594194 -0.0372003444984\n",
      "-0.212981651055 -0.0786719594194\n",
      "0.0304249038849 -0.212981651055\n",
      "-0.0881469602691 0.0304249038849\n",
      "-0.282659037264 -0.0881469602691\n",
      "-0.239623413071 -0.282659037264\n",
      "0.123904511235 -0.239623413071\n",
      "0.310673109647 0.123904511235\n",
      "-0.0354244463271 0.310673109647\n",
      "-0.277880272217 -0.0354244463271\n",
      "0.432490012033 -0.277880272217\n",
      "0.912663635819 0.432490012033\n",
      "1.26191161058 0.912663635819\n",
      "0.451612783983 1.26191161058\n",
      "0.257044354705 0.451612783983\n",
      "-0.0959641906941 0.257044354705\n",
      "-0.736821452607 -0.0959641906941\n",
      "-0.362623206311 -0.736821452607\n",
      "0.384419381822 -0.362623206311\n",
      "0.501310134089 0.384419381822\n",
      "0.0488839800671 0.501310134089\n",
      "-0.64316152845 0.0488839800671\n",
      "-0.215934902522 -0.64316152845\n",
      "0.23022517475 -0.215934902522\n",
      "0.0466331380249 0.23022517475\n",
      "-0.232646161477 0.0466331380249\n",
      "-0.0785760972294 -0.232646161477\n",
      "0.257950297054 -0.0785760972294\n",
      "-0.0763009956047 0.257950297054\n",
      "-0.12572371514 -0.0763009956047\n",
      "0.316218331976 -0.12572371514\n",
      "0.352602032646 0.316218331976\n",
      "0.384800874805 0.352602032646\n",
      "-0.138263004666 0.384800874805\n",
      "-0.352229111919 -0.138263004666\n",
      "0.231545786069 -0.352229111919\n",
      "0.592272157495 0.231545786069\n",
      "-0.536440268601 0.592272157495\n",
      "-1.01472237945 -0.536440268601\n",
      "-0.694854027997 -1.01472237945\n",
      "-0.0957957626181 -0.694854027997\n",
      "0.326522343629 -0.0957957626181\n",
      "0.302506148297 0.326522343629\n",
      "0.18445967473 0.302506148297\n",
      "0.262603475952 0.18445967473\n",
      "-0.178361013346 0.262603475952\n",
      "-0.507239444221 -0.178361013346\n",
      "0.225995607387 -0.507239444221\n",
      "0.52950556285 0.225995607387\n",
      "0.183097641758 0.52950556285\n",
      "-0.105281771101 0.183097641758\n",
      "-0.201213048401 -0.105281771101\n",
      "0.0351661611985 -0.201213048401\n",
      "0.207322570826 0.0351661611985\n",
      "0.544361417921 0.207322570826\n",
      "-0.0630689317555 0.544361417921\n",
      "-0.535165389436 -0.0630689317555\n",
      "-0.361469482637 -0.535165389436\n",
      "-0.126564052403 -0.361469482637\n",
      "-0.227700837556 -0.126564052403\n",
      "0.411393847234 -0.227700837556\n",
      "0.359568040239 0.411393847234\n",
      "0.0418286112826 0.359568040239\n",
      "0.0672035801228 0.0418286112826\n",
      "0.715882548523 0.0672035801228\n",
      "0.485912670416 0.715882548523\n",
      "0.17833579763 0.485912670416\n",
      "-0.261280907133 0.17833579763\n",
      "-0.624448730571 -0.261280907133\n",
      "-0.640911576944 -0.624448730571\n",
      "-0.0496228222461 -0.640911576944\n",
      "-0.120136301414 -0.0496228222461\n",
      "-0.392875793352 -0.120136301414\n",
      "0.191419034573 -0.392875793352\n",
      "0.95490188543 0.191419034573\n",
      "0.974293890986 0.95490188543\n",
      "0.0819957698513 0.974293890986\n",
      "-0.0355894973283 0.0819957698513\n",
      "-0.181085150156 -0.0355894973283\n",
      "-0.471280512196 -0.181085150156\n",
      "-0.489114415042 -0.471280512196\n",
      "-0.115350308727 -0.489114415042\n",
      "-0.250742782843 -0.115350308727\n",
      "0.222832978128 -0.250742782843\n",
      "0.438737225896 0.222832978128\n",
      "-0.0110913768531 0.438737225896\n",
      "-0.831943800597 -0.0110913768531\n",
      "-0.730597571802 -0.831943800597\n",
      "-0.478059946532 -0.730597571802\n",
      "-0.119394207556 -0.478059946532\n",
      "0.00501757930971 -0.119394207556\n",
      "0.250878287523 0.00501757930971\n",
      "0.424298417098 0.250878287523\n",
      "0.575750455574 0.424298417098\n",
      "0.444664607501 0.575750455574\n",
      "0.100512461877 0.444664607501\n",
      "0.205090202543 0.100512461877\n",
      "0.395826941288 0.205090202543\n",
      "0.503081835588 0.395826941288\n",
      "0.709093440091 0.503081835588\n",
      "0.276321491748 0.709093440091\n",
      "-0.205589202503 0.276321491748\n",
      "-0.177331221344 -0.205589202503\n",
      "0.367502696696 -0.177331221344\n",
      "0.595622543463 0.367502696696\n",
      "0.653420622474 0.595622543463\n",
      "-0.0515730259531 0.653420622474\n",
      "-0.584597045351 -0.0515730259531\n",
      "-0.295998622993 -0.584597045351\n",
      "-0.141501709893 -0.295998622993\n",
      "0.194131010042 -0.141501709893\n",
      "0.00428513668879 0.194131010042\n",
      "0.0430163142769 0.00428513668879\n",
      "0.340482392927 0.0430163142769\n",
      "-0.123955883068 0.340482392927\n",
      "-0.0762036697793 -0.123955883068\n",
      "0.0681703545188 -0.0762036697793\n",
      "0.246292551547 0.0681703545188\n",
      "0.485031322411 0.246292551547\n",
      "0.376615667693 0.485031322411\n",
      "0.608964995022 0.376615667693\n",
      "0.148215478457 0.608964995022\n",
      "-0.131817560235 0.148215478457\n",
      "-0.192627210716 -0.131817560235\n",
      "-0.349029581548 -0.192627210716\n",
      "0.121778853997 -0.349029581548\n",
      "0.235435338773 0.121778853997\n",
      "0.201020357527 0.235435338773\n",
      "-0.283615719776 0.201020357527\n",
      "-0.20954564905 -0.283615719776\n",
      "0.169258487448 -0.20954564905\n",
      "0.0189910516983 0.169258487448\n",
      "0.49805859694 0.0189910516983\n",
      "-0.323591460462 0.49805859694\n",
      "-0.698045411386 -0.323591460462\n",
      "-0.212381424931 -0.698045411386\n",
      "0.529576352594 -0.212381424931\n",
      "0.606129767934 0.529576352594\n",
      "0.444842334378 0.606129767934\n",
      "-0.00825475718967 0.444842334378\n",
      "-0.0170381820428 -0.00825475718967\n",
      "0.352549429458 -0.0170381820428\n",
      "-0.0153975889739 0.352549429458\n",
      "-0.122087920125 -0.0153975889739\n",
      "-0.0784268654737 -0.122087920125\n",
      "-0.0610859502984 -0.0784268654737\n",
      "0.61434000352 -0.0610859502984\n",
      "0.801429706122 0.61434000352\n",
      "0.15245949565 0.801429706122\n",
      "0.444051512884 0.15245949565\n",
      "0.21544180909 0.444051512884\n",
      "-0.306481009356 0.21544180909\n",
      "-0.58498190008 -0.306481009356\n",
      "-0.761832259438 -0.58498190008\n",
      "-0.103462671776 -0.761832259438\n",
      "0.569875902919 -0.103462671776\n",
      "0.822161291203 0.569875902919\n",
      "0.47869695045 0.822161291203\n",
      "0.247519546836 0.47869695045\n",
      "0.0902576343939 0.247519546836\n",
      "0.392299706832 0.0902576343939\n",
      "0.518952194948 0.392299706832\n",
      "0.266218982833 0.518952194948\n",
      "-0.402531533216 0.266218982833\n",
      "-0.723184142631 -0.402531533216\n",
      "-1.1042781905 -0.723184142631\n",
      "-0.724076680995 -1.1042781905\n",
      "-0.15739863869 -0.724076680995\n",
      "-0.225233436923 -0.15739863869\n",
      "-0.279347647721 -0.225233436923\n",
      "0.266977619446 -0.279347647721\n",
      "0.309180094225 0.266977619446\n",
      "-0.18454480987 0.309180094225\n"
     ]
    }
   ],
   "source": [
    "init_x = 4\n",
    "\n",
    "import random\n",
    "values = [init_x, init_x]\n",
    "N = 1000\n",
    "\n",
    "b0 = 0.8\n",
    "b1 = -0.4\n",
    "noise = dnorm(0, 0.1, N)\n",
    "for i in range(N):\n",
    "    new_x = values[-1] * b0 + values[-2] * b1 + noise[i]\n",
    "    print(values[-1], values[-2])\n",
    "    values.append(new_x)"
   ]
  },
  {
   "cell_type": "code",
   "execution_count": 53,
   "metadata": {
    "collapsed": true
   },
   "outputs": [],
   "source": [
    "MAXLAGS = 5\n",
    "model = sm.tsa.AR(values)\n",
    "results = model.fit(MAXLAGS)"
   ]
  },
  {
   "cell_type": "code",
   "execution_count": 54,
   "metadata": {},
   "outputs": [
    {
     "data": {
      "text/plain": [
       "array([-0.0062,  0.7845, -0.4085, -0.0136,  0.015 ,  0.0143])"
      ]
     },
     "execution_count": 54,
     "metadata": {},
     "output_type": "execute_result"
    }
   ],
   "source": [
    "results.params"
   ]
  },
  {
   "cell_type": "markdown",
   "metadata": {},
   "source": [
    "## Introduction to scikit-learn"
   ]
  },
  {
   "cell_type": "code",
   "execution_count": 59,
   "metadata": {},
   "outputs": [
    {
     "data": {
      "text/html": [
       "<div>\n",
       "<style>\n",
       "    .dataframe thead tr:only-child th {\n",
       "        text-align: right;\n",
       "    }\n",
       "\n",
       "    .dataframe thead th {\n",
       "        text-align: left;\n",
       "    }\n",
       "\n",
       "    .dataframe tbody tr th {\n",
       "        vertical-align: top;\n",
       "    }\n",
       "</style>\n",
       "<table border=\"1\" class=\"dataframe\">\n",
       "  <thead>\n",
       "    <tr style=\"text-align: right;\">\n",
       "      <th></th>\n",
       "      <th>PassengerId</th>\n",
       "      <th>Survived</th>\n",
       "      <th>Pclass</th>\n",
       "      <th>Name</th>\n",
       "      <th>Sex</th>\n",
       "      <th>Age</th>\n",
       "      <th>SibSp</th>\n",
       "      <th>Parch</th>\n",
       "      <th>Ticket</th>\n",
       "      <th>Fare</th>\n",
       "      <th>Cabin</th>\n",
       "      <th>Embarked</th>\n",
       "    </tr>\n",
       "  </thead>\n",
       "  <tbody>\n",
       "    <tr>\n",
       "      <th>0</th>\n",
       "      <td>1</td>\n",
       "      <td>0</td>\n",
       "      <td>3</td>\n",
       "      <td>Braund, Mr. Owen Harris</td>\n",
       "      <td>male</td>\n",
       "      <td>22.0</td>\n",
       "      <td>1</td>\n",
       "      <td>0</td>\n",
       "      <td>A/5 21171</td>\n",
       "      <td>7.2500</td>\n",
       "      <td>NaN</td>\n",
       "      <td>S</td>\n",
       "    </tr>\n",
       "    <tr>\n",
       "      <th>1</th>\n",
       "      <td>2</td>\n",
       "      <td>1</td>\n",
       "      <td>1</td>\n",
       "      <td>Cumings, Mrs. John Bradley (Florence Briggs Th...</td>\n",
       "      <td>female</td>\n",
       "      <td>38.0</td>\n",
       "      <td>1</td>\n",
       "      <td>0</td>\n",
       "      <td>PC 17599</td>\n",
       "      <td>71.2833</td>\n",
       "      <td>C85</td>\n",
       "      <td>C</td>\n",
       "    </tr>\n",
       "    <tr>\n",
       "      <th>2</th>\n",
       "      <td>3</td>\n",
       "      <td>1</td>\n",
       "      <td>3</td>\n",
       "      <td>Heikkinen, Miss. Laina</td>\n",
       "      <td>female</td>\n",
       "      <td>26.0</td>\n",
       "      <td>0</td>\n",
       "      <td>0</td>\n",
       "      <td>STON/O2. 3101282</td>\n",
       "      <td>7.9250</td>\n",
       "      <td>NaN</td>\n",
       "      <td>S</td>\n",
       "    </tr>\n",
       "    <tr>\n",
       "      <th>3</th>\n",
       "      <td>4</td>\n",
       "      <td>1</td>\n",
       "      <td>1</td>\n",
       "      <td>Futrelle, Mrs. Jacques Heath (Lily May Peel)</td>\n",
       "      <td>female</td>\n",
       "      <td>35.0</td>\n",
       "      <td>1</td>\n",
       "      <td>0</td>\n",
       "      <td>113803</td>\n",
       "      <td>53.1000</td>\n",
       "      <td>C123</td>\n",
       "      <td>S</td>\n",
       "    </tr>\n",
       "  </tbody>\n",
       "</table>\n",
       "</div>"
      ],
      "text/plain": [
       "   PassengerId  Survived  Pclass  \\\n",
       "0            1         0       3   \n",
       "1            2         1       1   \n",
       "2            3         1       3   \n",
       "3            4         1       1   \n",
       "\n",
       "                                                Name     Sex   Age  SibSp  \\\n",
       "0                            Braund, Mr. Owen Harris    male  22.0      1   \n",
       "1  Cumings, Mrs. John Bradley (Florence Briggs Th...  female  38.0      1   \n",
       "2                             Heikkinen, Miss. Laina  female  26.0      0   \n",
       "3       Futrelle, Mrs. Jacques Heath (Lily May Peel)  female  35.0      1   \n",
       "\n",
       "   Parch            Ticket     Fare Cabin Embarked  \n",
       "0      0         A/5 21171   7.2500   NaN        S  \n",
       "1      0          PC 17599  71.2833   C85        C  \n",
       "2      0  STON/O2. 3101282   7.9250   NaN        S  \n",
       "3      0            113803  53.1000  C123        S  "
      ]
     },
     "execution_count": 59,
     "metadata": {},
     "output_type": "execute_result"
    }
   ],
   "source": [
    "train = pd.read_csv('datasets/titanic/train.csv')\n",
    "test = pd.read_csv('datasets/titanic/test.csv')\n",
    "train[:4]"
   ]
  },
  {
   "cell_type": "code",
   "execution_count": 60,
   "metadata": {},
   "outputs": [
    {
     "name": "stdout",
     "output_type": "stream",
     "text": [
      "PassengerId      0\n",
      "Survived         0\n",
      "Pclass           0\n",
      "Name             0\n",
      "Sex              0\n",
      "Age            177\n",
      "SibSp            0\n",
      "Parch            0\n",
      "Ticket           0\n",
      "Fare             0\n",
      "Cabin          687\n",
      "Embarked         2\n",
      "dtype: int64\n"
     ]
    },
    {
     "data": {
      "text/plain": [
       "PassengerId      0\n",
       "Pclass           0\n",
       "Name             0\n",
       "Sex              0\n",
       "Age             86\n",
       "SibSp            0\n",
       "Parch            0\n",
       "Ticket           0\n",
       "Fare             1\n",
       "Cabin          327\n",
       "Embarked         0\n",
       "dtype: int64"
      ]
     },
     "execution_count": 60,
     "metadata": {},
     "output_type": "execute_result"
    }
   ],
   "source": [
    "print(train.isnull().sum())\n",
    "test.isnull().sum()"
   ]
  },
  {
   "cell_type": "code",
   "execution_count": 61,
   "metadata": {
    "collapsed": true
   },
   "outputs": [],
   "source": [
    "impute_value = train['Age'].median()\n",
    "train['Age'] = train['Age'].fillna(impute_value)\n",
    "test['Age'] = test['Age'].fillna(impute_value)"
   ]
  },
  {
   "cell_type": "code",
   "execution_count": 62,
   "metadata": {
    "collapsed": true
   },
   "outputs": [],
   "source": [
    "train['IsFemale'] = (train['Sex'] == 'female').astype(int)\n",
    "test['IsFemale'] = (test['Sex'] == 'female').astype(int)"
   ]
  },
  {
   "cell_type": "code",
   "execution_count": 63,
   "metadata": {},
   "outputs": [
    {
     "name": "stdout",
     "output_type": "stream",
     "text": [
      "[[  3.   0.  22.]\n",
      " [  1.   1.  38.]\n",
      " [  3.   1.  26.]\n",
      " [  1.   1.  35.]\n",
      " [  3.   0.  35.]]\n"
     ]
    },
    {
     "data": {
      "text/plain": [
       "array([0, 1, 1, 1, 0], dtype=int64)"
      ]
     },
     "execution_count": 63,
     "metadata": {},
     "output_type": "execute_result"
    }
   ],
   "source": [
    "predictors = ['Pclass', 'IsFemale', 'Age']\n",
    "X_train = train[predictors].values\n",
    "X_test = test[predictors].values\n",
    "y_train = train['Survived'].values\n",
    "print(X_train[:5])\n",
    "y_train[:5]"
   ]
  },
  {
   "cell_type": "code",
   "execution_count": 64,
   "metadata": {
    "collapsed": true
   },
   "outputs": [],
   "source": [
    "from sklearn.linear_model import LogisticRegression\n",
    "model = LogisticRegression()"
   ]
  },
  {
   "cell_type": "code",
   "execution_count": 65,
   "metadata": {},
   "outputs": [
    {
     "data": {
      "text/plain": [
       "LogisticRegression(C=1.0, class_weight=None, dual=False, fit_intercept=True,\n",
       "          intercept_scaling=1, max_iter=100, multi_class='ovr', n_jobs=1,\n",
       "          penalty='l2', random_state=None, solver='liblinear', tol=0.0001,\n",
       "          verbose=0, warm_start=False)"
      ]
     },
     "execution_count": 65,
     "metadata": {},
     "output_type": "execute_result"
    }
   ],
   "source": [
    "model.fit(X_train, y_train)"
   ]
  },
  {
   "cell_type": "code",
   "execution_count": 66,
   "metadata": {},
   "outputs": [
    {
     "data": {
      "text/plain": [
       "array([0, 0, 0, 0, 1, 0, 1, 0, 1, 0], dtype=int64)"
      ]
     },
     "execution_count": 66,
     "metadata": {},
     "output_type": "execute_result"
    }
   ],
   "source": [
    "y_predict = model.predict(X_test)\n",
    "y_predict[:10]"
   ]
  },
  {
   "cell_type": "markdown",
   "metadata": {},
   "source": [
    "(y_true == y_predict).mean()"
   ]
  },
  {
   "cell_type": "code",
   "execution_count": 67,
   "metadata": {},
   "outputs": [
    {
     "data": {
      "text/plain": [
       "LogisticRegressionCV(Cs=10, class_weight=None, cv=None, dual=False,\n",
       "           fit_intercept=True, intercept_scaling=1.0, max_iter=100,\n",
       "           multi_class='ovr', n_jobs=1, penalty='l2', random_state=None,\n",
       "           refit=True, scoring=None, solver='lbfgs', tol=0.0001, verbose=0)"
      ]
     },
     "execution_count": 67,
     "metadata": {},
     "output_type": "execute_result"
    }
   ],
   "source": [
    "from sklearn.linear_model import LogisticRegressionCV\n",
    "model_cv = LogisticRegressionCV(10)\n",
    "model_cv.fit(X_train, y_train)"
   ]
  },
  {
   "cell_type": "code",
   "execution_count": 68,
   "metadata": {},
   "outputs": [
    {
     "data": {
      "text/plain": [
       "array([ 0.7723,  0.8027,  0.7703,  0.7883])"
      ]
     },
     "execution_count": 68,
     "metadata": {},
     "output_type": "execute_result"
    }
   ],
   "source": [
    "from sklearn.model_selection import cross_val_score\n",
    "model = LogisticRegression(C=10)\n",
    "scores = cross_val_score(model, X_train, y_train, cv=4)\n",
    "scores"
   ]
  },
  {
   "cell_type": "markdown",
   "metadata": {},
   "source": [
    "## Continuing Your Education"
   ]
  },
  {
   "cell_type": "code",
   "execution_count": null,
   "metadata": {
    "collapsed": true
   },
   "outputs": [],
   "source": [
    "pd.options.display.max_rows = PREVIOUS_MAX_ROWS"
   ]
  }
 ],
 "metadata": {
  "kernelspec": {
   "display_name": "Python 3",
   "language": "python",
   "name": "python3"
  },
  "language_info": {
   "codemirror_mode": {
    "name": "ipython",
    "version": 3
   },
   "file_extension": ".py",
   "mimetype": "text/x-python",
   "name": "python",
   "nbconvert_exporter": "python",
   "pygments_lexer": "ipython3",
   "version": "3.6.3"
  }
 },
 "nbformat": 4,
 "nbformat_minor": 1
}
